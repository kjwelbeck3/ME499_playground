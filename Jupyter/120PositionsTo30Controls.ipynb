{
 "cells": [
  {
   "cell_type": "markdown",
   "id": "9ea9903b",
   "metadata": {},
   "source": [
    "Goal:\n",
    "\n",
    "---\n",
    "Arbitrary Input Matrix --> 10 x 12 = 120\n",
    " - Commanding both phase shift and amplitude\n",
    " \n",
    "Arbitray Mask Matrix--> governed by size of object\n",
    " - Bnary map / sparse matrix of object location (0/1s)\n",
    " \n",
    "Derived Filtered Matrix --> 10 x 12 \n",
    " - Commanding both phase shift and amplitude\n",
    "\n",
    "--- \n",
    "Control Output --> 30 \n",
    " - Actuation profile of phase and amplitude\n",
    "\n",
    "++++++++++++++\n",
    "Helpers\n",
    " - Converting to/from Matrix from/to Indexed List\n",
    " - Indexed List to Controls Index mapping\n",
    " - Generating Mask from centroid position\n",
    " \n",
    "Daisy chaining/Electrical Pairing ensure that there is no electrical overlaps across mask\n",
    " - Made possible by the size of the levitated object\n",
    " \n",
    "To implement mapping as a matrix or dictionary?\n",
    " - start off with dictionary\n",
    " - matrix i beleive will be more efficient than for loops\n",
    " "
   ]
  },
  {
   "cell_type": "code",
   "execution_count": 66,
   "id": "d7d7aa9e",
   "metadata": {},
   "outputs": [],
   "source": [
    "%matplotlib inline"
   ]
  },
  {
   "cell_type": "code",
   "execution_count": 67,
   "id": "40b18303",
   "metadata": {},
   "outputs": [],
   "source": [
    "import numpy as np\n",
    "from math import floor, ceil\n",
    "from matplotlib import pyplot as plt\n"
   ]
  },
  {
   "cell_type": "code",
   "execution_count": 68,
   "id": "fc8c6a3a",
   "metadata": {},
   "outputs": [
    {
     "name": "stdout",
     "output_type": "stream",
     "text": [
      "Input PhaseShifts:\n",
      "[[270.  112.5   0.   67.5 247.5  67.5 157.5 202.5  67.5 112.5  45.   90. ]\n",
      " [157.5 135.  180.  180.  270.  225.   22.5 135.  157.5 157.5 315.  180. ]\n",
      " [ 22.5 112.5 202.5 292.5 180.  202.5  90.   67.5   0.   67.5 112.5 315. ]\n",
      " [  0.   45.   67.5 180.   22.5  67.5 292.5  67.5  67.5 315.  157.5   0. ]\n",
      " [ 22.5 202.5 202.5   0.  225.   90.  157.5  67.5 315.  247.5  45.  157.5]\n",
      " [270.   45.    0.    0.   90.  112.5 112.5 135.  180.   90.   22.5  90. ]\n",
      " [202.5 225.  225.  180.   22.5  22.5 157.5 202.5 202.5  67.5 135.  157.5]\n",
      " [247.5 315.   45.  247.5   0.  315.   67.5 112.5 270.  202.5 225.   90. ]\n",
      " [247.5  90.  135.   90.   90.   67.5 270.   90.   90.  180.  315.   90. ]\n",
      " [ 67.5 225.  157.5 292.5 112.5 112.5   0.   22.5 112.5 202.5  67.5   0. ]]\n",
      "\n",
      "Input Amplitudes:\n",
      "[[0 1 2 4 2 0 3 2 2 0 1 0]\n",
      " [2 2 3 2 3 2 1 2 3 3 3 2]\n",
      " [3 4 1 2 3 1 2 1 4 2 3 0]\n",
      " [3 2 3 0 0 0 3 2 3 0 4 0]\n",
      " [0 2 3 2 3 0 0 0 3 0 2 2]\n",
      " [0 4 3 4 0 4 3 3 4 1 3 0]\n",
      " [0 0 1 0 4 1 3 1 0 0 4 3]\n",
      " [3 1 0 0 1 2 0 3 1 1 4 0]\n",
      " [0 3 2 3 2 4 3 3 0 3 0 4]\n",
      " [2 3 4 0 2 3 3 1 3 4 3 3]]\n",
      "\n",
      "Mask:\n",
      "[[0. 0. 0. 0. 0. 0. 0. 0. 0. 0. 0. 0.]\n",
      " [0. 0. 0. 0. 0. 0. 0. 0. 0. 0. 0. 0.]\n",
      " [0. 0. 0. 1. 1. 1. 1. 1. 0. 0. 0. 0.]\n",
      " [0. 0. 0. 1. 1. 1. 1. 1. 0. 0. 0. 0.]\n",
      " [0. 0. 0. 1. 1. 1. 1. 1. 0. 0. 0. 0.]\n",
      " [0. 0. 0. 1. 1. 1. 1. 1. 0. 0. 0. 0.]\n",
      " [0. 0. 0. 1. 1. 1. 1. 1. 0. 0. 0. 0.]\n",
      " [0. 0. 0. 0. 0. 0. 0. 0. 0. 0. 0. 0.]\n",
      " [0. 0. 0. 0. 0. 0. 0. 0. 0. 0. 0. 0.]\n",
      " [0. 0. 0. 0. 0. 0. 0. 0. 0. 0. 0. 0.]]\n",
      "\n",
      "maskedPhaseShifts:\n",
      "[[  0.    0.    0.    0.    0.    0.    0.    0.    0.    0.    0.    0. ]\n",
      " [  0.    0.    0.    0.    0.    0.    0.    0.    0.    0.    0.    0. ]\n",
      " [  0.    0.    0.  292.5 180.  202.5  90.   67.5   0.    0.    0.    0. ]\n",
      " [  0.    0.    0.  180.   22.5  67.5 292.5  67.5   0.    0.    0.    0. ]\n",
      " [  0.    0.    0.    0.  225.   90.  157.5  67.5   0.    0.    0.    0. ]\n",
      " [  0.    0.    0.    0.   90.  112.5 112.5 135.    0.    0.    0.    0. ]\n",
      " [  0.    0.    0.  180.   22.5  22.5 157.5 202.5   0.    0.    0.    0. ]\n",
      " [  0.    0.    0.    0.    0.    0.    0.    0.    0.    0.    0.    0. ]\n",
      " [  0.    0.    0.    0.    0.    0.    0.    0.    0.    0.    0.    0. ]\n",
      " [  0.    0.    0.    0.    0.    0.    0.    0.    0.    0.    0.    0. ]]\n",
      "\n",
      "controlPhaseShift\n",
      "{18: 292.5, 23: 180.0, 28: 202.5, 3: 90.0, 8: 67.5, 17: 180.0, 22: 22.5, 27: 67.5, 2: 292.5, 7: 67.5, 16: 0.0, 21: 225.0, 26: 90.0, 1: 157.5, 6: 67.5, 20: 0.0, 25: 90.0, 30: 112.5, 5: 112.5, 10: 135.0, 19: 180.0, 24: 22.5, 29: 22.5, 4: 157.5, 9: 202.5}\n",
      "\n",
      "maskedAmplitude\n",
      "length: 25\n",
      "[[0. 0. 0. 0. 0. 0. 0. 0. 0. 0. 0. 0.]\n",
      " [0. 0. 0. 0. 0. 0. 0. 0. 0. 0. 0. 0.]\n",
      " [0. 0. 0. 2. 3. 1. 2. 1. 0. 0. 0. 0.]\n",
      " [0. 0. 0. 0. 0. 0. 3. 2. 0. 0. 0. 0.]\n",
      " [0. 0. 0. 2. 3. 0. 0. 0. 0. 0. 0. 0.]\n",
      " [0. 0. 0. 4. 0. 4. 3. 3. 0. 0. 0. 0.]\n",
      " [0. 0. 0. 0. 4. 1. 3. 1. 0. 0. 0. 0.]\n",
      " [0. 0. 0. 0. 0. 0. 0. 0. 0. 0. 0. 0.]\n",
      " [0. 0. 0. 0. 0. 0. 0. 0. 0. 0. 0. 0.]\n",
      " [0. 0. 0. 0. 0. 0. 0. 0. 0. 0. 0. 0.]]\n",
      "\n",
      "controlAmplitude\n",
      "length:  25\n",
      "{18: 2, 23: 3, 28: 1, 3: 2, 8: 1, 17: 0, 22: 0, 27: 0, 2: 3, 7: 2, 16: 2, 21: 3, 26: 0, 1: 0, 6: 0, 20: 4, 25: 0, 30: 4, 5: 3, 10: 3, 19: 0, 24: 4, 29: 1, 4: 3, 9: 1}\n",
      "\n"
     ]
    }
   ],
   "source": [
    "n_rows, n_cols = 10, 12\n",
    "fixed_size = (n_rows, n_cols)\n",
    "mask_width = 5\n",
    "random_seed = 0\n",
    "centroid = (5,4) \n",
    "\n",
    "def matrixToIndexedList(matrix):\n",
    "    return matrix.flatten()\n",
    "\n",
    "def indexedListToMatric(arr):\n",
    "    return arr.reshape(fixed_size)\n",
    "\n",
    "def maskFromCentroid(centroid):\n",
    "    x, y = centroid\n",
    "    \n",
    "    x_min = max(0, x - floor(mask_width/2))\n",
    "    x_max = min(n_cols, x + ceil(mask_width/2))\n",
    "    \n",
    "    y_min = max(0, y - floor(mask_width/2))\n",
    "    y_max = min(n_rows, y + ceil(mask_width/2))\n",
    "    \n",
    "    mask = np.zeros((fixed_size))\n",
    "    mask[y_min:y_max, x_min:x_max] = 1\n",
    "    \n",
    "    return mask\n",
    "\n",
    "def maskMatrix(matrix, mask):\n",
    "    return np.multiply(matrix, mask)\n",
    "\n",
    "\n",
    "def outputMaskedMatToControls(mat, mask, mapping):\n",
    "    control_idxs = mapping[mask > 0]\n",
    "    control_vals = mat[mask > 0]\n",
    "    control_dict = {}\n",
    "    for i,v in enumerate(control_idxs):\n",
    "        control_dict[v] = control_vals[i]\n",
    "        \n",
    "    return control_dict\n",
    "\n",
    "    \n",
    "np.random.seed(random_seed)\n",
    "inputPhaseShifts = np.random.randint(0, 15, fixed_size)*22.5 \n",
    "inputAmplitudes = np.random.randint(0, 5, fixed_size)\n",
    "\n",
    "print(\"Input PhaseShifts:\")\n",
    "print(inputPhaseShifts)\n",
    "print(\"\")\n",
    "print(\"Input Amplitudes:\")\n",
    "print(inputAmplitudes)\n",
    "print(\"\")\n",
    "\n",
    "mask = maskFromCentroid(centroid)\n",
    "print(\"Mask:\")\n",
    "print(mask)\n",
    "print(\"\")\n",
    "\n",
    "maskedPhaseShifts = maskMatrix(inputPhaseShifts, mask)\n",
    "maskedAmplitude = maskMatrix(inputAmplitudes, mask)\n",
    "\n",
    "mapping = np.zeros(fixed_size, dtype=np.int8)\n",
    "submap = np.zeros((int(n_rows/2), int(n_cols/2)))\n",
    "\n",
    "submap[:, 0] = np.arange(5, 0, -1)#.reshape((n_rows/2, 1))\n",
    "submap[:, 1] = np.arange(10, 5, -1)#.reshape((n_rows/2, 1))\n",
    "submap[:, 2] = np.arange(15, 10, -1)#.reshape((n_rows/2, 1))\n",
    "submap[:, 3] = np.arange(20, 15, -1)#.reshape((n_rows/2, 1))\n",
    "submap[:, 4] = np.arange(25, 20, -1)#.reshape((n_rows/2, 1))\n",
    "submap[:, 5] = np.arange(30, 25, -1)#.reshape((n_rows/2, 1))\n",
    "\n",
    "mapping[0:5, 0:6] = submap\n",
    "mapping[0:5, 6:12] = submap\n",
    "mapping[5:10, 0:6] = submap\n",
    "mapping[5:10, 6:12] = submap\n",
    "\n",
    "controlPhaseShift = outputMaskedMatToControls(inputPhaseShifts, mask, mapping)\n",
    "controlAmplitude = outputMaskedMatToControls(inputAmplitudes, mask, mapping)\n",
    "\n",
    "print(\"maskedPhaseShifts:\")\n",
    "print(maskedPhaseShifts)\n",
    "print(\"\")\n",
    "\n",
    "print(\"controlPhaseShift\")\n",
    "print(controlPhaseShift)\n",
    "print(\"\")\n",
    "\n",
    "print(\"maskedAmplitude\")\n",
    "print(\"length:\", len(controlAmplitude.items()))\n",
    "print(maskedAmplitude)\n",
    "print(\"\")\n",
    "\n",
    "print(\"controlAmplitude\")\n",
    "print(\"length: \",len(controlAmplitude.items()))\n",
    "print(controlAmplitude)\n",
    "print(\"\")\n"
   ]
  },
  {
   "cell_type": "code",
   "execution_count": 69,
   "id": "3e9427cf",
   "metadata": {},
   "outputs": [
    {
     "data": {
      "image/png": "[encoded data removed]",
      "text/plain": [
       "<Figure size 432x288 with 1 Axes>"
      ]
     },
     "metadata": {
      "needs_background": "light"
     },
     "output_type": "display_data"
    }
   ],
   "source": [
    "plt.imshow(mapping, interpolation='nearest')\n",
    "plt.show()"
   ]
  },
  {
   "cell_type": "code",
   "execution_count": 70,
   "id": "3c8abe5e",
   "metadata": {},
   "outputs": [
    {
     "data": {
      "image/png": "[encoded data removed]",
      "text/plain": [
       "<Figure size 432x288 with 1 Axes>"
      ]
     },
     "metadata": {
      "needs_background": "light"
     },
     "output_type": "display_data"
    }
   ],
   "source": [
    "plt.imshow(inputPhaseShifts, interpolation='nearest')\n",
    "plt.show()"
   ]
  },
  {
   "cell_type": "code",
   "execution_count": 71,
   "id": "9a9ea246",
   "metadata": {},
   "outputs": [
    {
     "data": {
      "image/png": "[encoded data removed]",
      "text/plain": [
       "<Figure size 432x288 with 1 Axes>"
      ]
     },
     "metadata": {
      "needs_background": "light"
     },
     "output_type": "display_data"
    }
   ],
   "source": [
    "plt.imshow(mask, interpolation='nearest')\n",
    "plt.show()"
   ]
  },
  {
   "cell_type": "code",
   "execution_count": 72,
   "id": "423479ff",
   "metadata": {},
   "outputs": [
    {
     "data": {
      "image/png": "[encoded data removed]",
      "text/plain": [
       "<Figure size 432x288 with 1 Axes>"
      ]
     },
     "metadata": {
      "needs_background": "light"
     },
     "output_type": "display_data"
    }
   ],
   "source": [
    "plt.imshow(maskedPhaseShifts, interpolation='nearest')\n",
    "plt.show()"
   ]
  },
  {
   "cell_type": "code",
   "execution_count": 73,
   "id": "1e3d9e49",
   "metadata": {},
   "outputs": [
    {
     "data": {
      "image/png": "[encoded data removed]",
      "text/plain": [
       "<Figure size 432x288 with 1 Axes>"
      ]
     },
     "metadata": {
      "needs_background": "light"
     },
     "output_type": "display_data"
    }
   ],
   "source": [
    "maskedMapping = maskMatrix(mapping, mask)\n",
    "plt.imshow(maskedMapping, interpolation='nearest')\n",
    "plt.show()"
   ]
  },
  {
   "cell_type": "code",
   "execution_count": null,
   "id": "16e5f6c2",
   "metadata": {},
   "outputs": [],
   "source": []
  }
 ],
 "metadata": {
  "kernelspec": {
   "display_name": "Python 3",
   "language": "python",
   "name": "python3"
  },
  "language_info": {
   "codemirror_mode": {
    "name": "ipython",
    "version": 3
   },
   "file_extension": ".py",
   "mimetype": "text/x-python",
   "name": "python",
   "nbconvert_exporter": "python",
   "pygments_lexer": "ipython3",
   "version": "3.8.10"
  }
 },
 "nbformat": 4,
 "nbformat_minor": 5
}
