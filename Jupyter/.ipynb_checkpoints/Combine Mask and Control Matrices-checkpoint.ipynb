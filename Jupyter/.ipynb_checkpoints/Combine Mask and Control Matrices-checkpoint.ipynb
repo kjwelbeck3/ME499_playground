{
 "cells": [
  {
   "cell_type": "code",
   "execution_count": 1,
   "id": "22895f95",
   "metadata": {},
   "outputs": [],
   "source": [
    "## Inputs: \n",
    "## - mapping -- 10x20 mat where each cell value reps the control value/index\n",
    "## - mask    -- 10x20 mat where 5x5 block of ones indicate the control/actuation focus\n",
    "## - control -- 5x5 mat to be applied to mask focus\n",
    "\n",
    "\n",
    "## Output:\n",
    "## - control_dict -- dict with keys(1-30) of control"
   ]
  },
  {
   "cell_type": "code",
   "execution_count": 59,
   "id": "3ed218df",
   "metadata": {},
   "outputs": [
    {
     "name": "stdout",
     "output_type": "stream",
     "text": [
      "Control\n"
     ]
    },
    {
     "data": {
      "text/plain": [
       "array([[5, 8, 9, 5, 0],\n",
       "       [0, 1, 7, 6, 9],\n",
       "       [2, 4, 5, 2, 4],\n",
       "       [2, 4, 7, 7, 9],\n",
       "       [1, 7, 0, 6, 9]])"
      ]
     },
     "metadata": {},
     "output_type": "display_data"
    },
    {
     "name": "stdout",
     "output_type": "stream",
     "text": [
      "Mapping\n"
     ]
    },
    {
     "data": {
      "text/plain": [
       "array([[ 5, 10, 15, 20, 25, 30,  5, 10, 15, 20, 25, 30],\n",
       "       [ 4,  9, 14, 19, 24, 29,  4,  9, 14, 19, 24, 29],\n",
       "       [ 3,  8, 13, 18, 23, 28,  3,  8, 13, 18, 23, 28],\n",
       "       [ 2,  7, 12, 17, 22, 27,  2,  7, 12, 17, 22, 27],\n",
       "       [ 1,  6, 11, 16, 21, 26,  1,  6, 11, 16, 21, 26],\n",
       "       [ 5, 10, 15, 20, 25, 30,  5, 10, 15, 20, 25, 30],\n",
       "       [ 4,  9, 14, 19, 24, 29,  4,  9, 14, 19, 24, 29],\n",
       "       [ 3,  8, 13, 18, 23, 28,  3,  8, 13, 18, 23, 28],\n",
       "       [ 2,  7, 12, 17, 22, 27,  2,  7, 12, 17, 22, 27],\n",
       "       [ 1,  6, 11, 16, 21, 26,  1,  6, 11, 16, 21, 26]], dtype=int8)"
      ]
     },
     "metadata": {},
     "output_type": "display_data"
    },
    {
     "name": "stdout",
     "output_type": "stream",
     "text": [
      "Mask\n"
     ]
    },
    {
     "data": {
      "text/plain": [
       "array([[0., 0., 0., 0., 0., 0., 0., 0., 0., 0., 0., 0.],\n",
       "       [0., 0., 0., 0., 0., 0., 0., 0., 0., 0., 0., 0.],\n",
       "       [0., 0., 0., 1., 1., 1., 1., 1., 0., 0., 0., 0.],\n",
       "       [0., 0., 0., 1., 1., 1., 1., 1., 0., 0., 0., 0.],\n",
       "       [0., 0., 0., 1., 1., 1., 1., 1., 0., 0., 0., 0.],\n",
       "       [0., 0., 0., 1., 1., 1., 1., 1., 0., 0., 0., 0.],\n",
       "       [0., 0., 0., 1., 1., 1., 1., 1., 0., 0., 0., 0.],\n",
       "       [0., 0., 0., 0., 0., 0., 0., 0., 0., 0., 0., 0.],\n",
       "       [0., 0., 0., 0., 0., 0., 0., 0., 0., 0., 0., 0.],\n",
       "       [0., 0., 0., 0., 0., 0., 0., 0., 0., 0., 0., 0.]])"
      ]
     },
     "metadata": {},
     "output_type": "display_data"
    }
   ],
   "source": [
    "import numpy as np\n",
    "from math import floor, ceil\n",
    "\n",
    "## control\n",
    "np.random.seed(1)\n",
    "control = np.random.randint(0, 10, (5,5))\n",
    "print(\"Control\")\n",
    "display(control)\n",
    "\n",
    "## mapping\n",
    "mapping = np.zeros((10,12), dtype=np.int8)\n",
    "submap = np.zeros((int(10/2), int(12/2)))\n",
    "\n",
    "submap[:, 0] = np.arange(5, 0, -1)#.reshape((n_rows/2, 1))\n",
    "submap[:, 1] = np.arange(10, 5, -1)#.reshape((n_rows/2, 1))\n",
    "submap[:, 2] = np.arange(15, 10, -1)#.reshape((n_rows/2, 1))\n",
    "submap[:, 3] = np.arange(20, 15, -1)#.reshape((n_rows/2, 1))\n",
    "submap[:, 4] = np.arange(25, 20, -1)#.reshape((n_rows/2, 1))\n",
    "submap[:, 5] = np.arange(30, 25, -1)#.reshape((n_rows/2, 1))\n",
    "\n",
    "mapping[0:5, 0:6] = submap\n",
    "mapping[0:5, 6:12] = submap\n",
    "mapping[5:10, 0:6] = submap\n",
    "mapping[5:10, 6:12] = submap\n",
    "print(\"Mapping\")\n",
    "display(mapping)\n",
    "\n",
    "## mask\n",
    "centroid = (5,4)\n",
    "mask_width = 5\n",
    "n_cols, n_rows = 12, 10\n",
    "fixed_size = (n_rows, n_cols)\n",
    "\n",
    "def maskFromCentroid(centroid):\n",
    "    x, y = centroid\n",
    "    \n",
    "    x_min = max(0, x - floor(mask_width/2))\n",
    "    x_max = min(n_cols, x + ceil(mask_width/2))\n",
    "    \n",
    "    y_min = max(0, y - floor(mask_width/2))\n",
    "    y_max = min(n_rows, y + ceil(mask_width/2))\n",
    "    \n",
    "    mask = np.zeros((fixed_size))\n",
    "    mask[y_min:y_max, x_min:x_max] = 1\n",
    "    \n",
    "    return mask\n",
    "mask = maskFromCentroid(centroid)\n",
    "print(\"Mask\")\n",
    "display(mask)"
   ]
  },
  {
   "cell_type": "code",
   "execution_count": 69,
   "id": "d6e19154",
   "metadata": {},
   "outputs": [
    {
     "name": "stdout",
     "output_type": "stream",
     "text": [
      "control_mask: \n",
      "[[0. 0. 0. 0. 0. 0. 0. 0. 0. 0. 0. 0.]\n",
      " [0. 0. 0. 0. 0. 0. 0. 0. 0. 0. 0. 0.]\n",
      " [0. 0. 0. 5. 8. 9. 5. 0. 0. 0. 0. 0.]\n",
      " [0. 0. 0. 0. 1. 7. 6. 9. 0. 0. 0. 0.]\n",
      " [0. 0. 0. 2. 4. 5. 2. 4. 0. 0. 0. 0.]\n",
      " [0. 0. 0. 2. 4. 7. 7. 9. 0. 0. 0. 0.]\n",
      " [0. 0. 0. 1. 7. 0. 6. 9. 0. 0. 0. 0.]\n",
      " [0. 0. 0. 0. 0. 0. 0. 0. 0. 0. 0. 0.]\n",
      " [0. 0. 0. 0. 0. 0. 0. 0. 0. 0. 0. 0.]\n",
      " [0. 0. 0. 0. 0. 0. 0. 0. 0. 0. 0. 0.]]\n",
      "mapping: \n",
      "[[ 0  0  0  0  0  0  0  0  0  0  0  0]\n",
      " [ 0  0  0  0  0  0  0  0  0  0  0  0]\n",
      " [ 0  0  0 18 23 28  3  8  0  0  0  0]\n",
      " [ 0  0  0 17 22 27  2  7  0  0  0  0]\n",
      " [ 0  0  0 16 21 26  1  6  0  0  0  0]\n",
      " [ 0  0  0 20 25 30  5 10  0  0  0  0]\n",
      " [ 0  0  0 19 24 29  4  9  0  0  0  0]\n",
      " [ 0  0  0  0  0  0  0  0  0  0  0  0]\n",
      " [ 0  0  0  0  0  0  0  0  0  0  0  0]\n",
      " [ 0  0  0  0  0  0  0  0  0  0  0  0]]\n",
      "control_idxs\n",
      "[18 23 28  3  8 17 22 27  2  7 16 21 26  1  6 20 25 30  5 10 19 24 29  4\n",
      "  9]\n",
      "1 18\n",
      "2 23\n",
      "3 28\n",
      "4 3\n",
      "5 8\n",
      "6 17\n",
      "7 22\n",
      "8 27\n",
      "9 2\n",
      "10 7\n",
      "11 16\n",
      "12 21\n",
      "13 26\n",
      "14 1\n",
      "15 6\n",
      "16 20\n",
      "17 25\n",
      "18 30\n",
      "19 5\n",
      "20 10\n",
      "21 19\n",
      "22 24\n",
      "23 29\n",
      "24 4\n",
      "25 9\n"
     ]
    }
   ],
   "source": [
    "control_mask = np.zeros((10,12))\n",
    "control_mask[mask.nonzero()] = control.flatten()\n",
    "print(\"control_mask: \")\n",
    "print(control_mask)\n",
    "\n",
    "mapping[mask==0] = 0\n",
    "print(\"mapping: \")\n",
    "print(mapping)\n",
    "print()\n",
    "\n",
    "control_idxs = mapping[mask>0]\n",
    "print(\"control_idxs\")\n",
    "print(control_idxs)\n",
    "print()\n",
    "\n",
    "\n",
    "control_dict = {}\n",
    "for i,v in enumerate(control_idxs):\n",
    "    print(i+1,v)\n",
    "#     control_dict[v] = control_mask[i]\n",
    "\n",
    "# control_dict"
   ]
  },
  {
   "cell_type": "code",
   "execution_count": 52,
   "id": "b6840398",
   "metadata": {},
   "outputs": [
    {
     "data": {
      "text/plain": [
       "array([[0., 0., 0., 0., 0., 0., 0., 0., 0., 0., 0., 0.],\n",
       "       [0., 0., 0., 0., 0., 0., 0., 0., 0., 0., 0., 0.],\n",
       "       [0., 0., 0., 5., 8., 9., 5., 0., 0., 0., 0., 0.],\n",
       "       [0., 0., 0., 0., 1., 7., 6., 9., 0., 0., 0., 0.],\n",
       "       [0., 0., 0., 2., 4., 5., 2., 4., 0., 0., 0., 0.],\n",
       "       [0., 0., 0., 2., 4., 7., 7., 9., 0., 0., 0., 0.],\n",
       "       [0., 0., 0., 1., 7., 0., 6., 9., 0., 0., 0., 0.],\n",
       "       [0., 0., 0., 0., 0., 0., 0., 0., 0., 0., 0., 0.],\n",
       "       [0., 0., 0., 0., 0., 0., 0., 0., 0., 0., 0., 0.],\n",
       "       [0., 0., 0., 0., 0., 0., 0., 0., 0., 0., 0., 0.]])"
      ]
     },
     "execution_count": 52,
     "metadata": {},
     "output_type": "execute_result"
    }
   ],
   "source": [
    "control_mask"
   ]
  },
  {
   "cell_type": "code",
   "execution_count": null,
   "id": "7a83c28b",
   "metadata": {},
   "outputs": [],
   "source": []
  }
 ],
 "metadata": {
  "kernelspec": {
   "display_name": "Python 3",
   "language": "python",
   "name": "python3"
  },
  "language_info": {
   "codemirror_mode": {
    "name": "ipython",
    "version": 3
   },
   "file_extension": ".py",
   "mimetype": "text/x-python",
   "name": "python",
   "nbconvert_exporter": "python",
   "pygments_lexer": "ipython3",
   "version": "3.8.10"
  }
 },
 "nbformat": 4,
 "nbformat_minor": 5
}
