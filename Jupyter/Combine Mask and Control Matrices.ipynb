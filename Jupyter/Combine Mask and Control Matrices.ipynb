{
 "cells": [
  {
   "cell_type": "code",
   "execution_count": 1,
   "id": "199f4b8b",
   "metadata": {},
   "outputs": [],
   "source": [
    "## Inputs: \n",
    "## - mapping -- 10x20 mat where each cell value reps the control value/index\n",
    "## - mask    -- 10x20 mat where 5x5 block of ones indicate the control/actuation focus\n",
    "## - control -- 5x5 mat to be applied to mask focus\n",
    "\n",
    "\n",
    "## Output:\n",
    "## - control_dict -- dict with keys(1-30) of control"
   ]
  },
  {
   "cell_type": "code",
   "execution_count": 59,
   "id": "72129a23",
   "metadata": {},
   "outputs": [
    {
     "name": "stdout",
     "output_type": "stream",
     "text": [
      "Control\n"
     ]
    },
    {
     "data": {
      "text/plain": [
       "array([[5, 8, 9, 5, 0],\n",
       "       [0, 1, 7, 6, 9],\n",
       "       [2, 4, 5, 2, 4],\n",
       "       [2, 4, 7, 7, 9],\n",
       "       [1, 7, 0, 6, 9]])"
      ]
     },
     "metadata": {},
     "output_type": "display_data"
    },
    {
     "name": "stdout",
     "output_type": "stream",
     "text": [
      "Mapping\n"
     ]
    },
    {
     "data": {
      "text/plain": [
       "array([[ 5, 10, 15, 20, 25, 30,  5, 10, 15, 20, 25, 30],\n",
       "       [ 4,  9, 14, 19, 24, 29,  4,  9, 14, 19, 24, 29],\n",
       "       [ 3,  8, 13, 18, 23, 28,  3,  8, 13, 18, 23, 28],\n",
       "       [ 2,  7, 12, 17, 22, 27,  2,  7, 12, 17, 22, 27],\n",
       "       [ 1,  6, 11, 16, 21, 26,  1,  6, 11, 16, 21, 26],\n",
       "       [ 5, 10, 15, 20, 25, 30,  5, 10, 15, 20, 25, 30],\n",
       "       [ 4,  9, 14, 19, 24, 29,  4,  9, 14, 19, 24, 29],\n",
       "       [ 3,  8, 13, 18, 23, 28,  3,  8, 13, 18, 23, 28],\n",
       "       [ 2,  7, 12, 17, 22, 27,  2,  7, 12, 17, 22, 27],\n",
       "       [ 1,  6, 11, 16, 21, 26,  1,  6, 11, 16, 21, 26]], dtype=int8)"
      ]
     },
     "metadata": {},
     "output_type": "display_data"
    },
    {
     "name": "stdout",
     "output_type": "stream",
     "text": [
      "Mask\n"
     ]
    },
    {
     "data": {
      "text/plain": [
       "array([[0., 0., 0., 0., 0., 0., 0., 0., 0., 0., 0., 0.],\n",
       "       [0., 0., 0., 0., 0., 0., 0., 0., 0., 0., 0., 0.],\n",
       "       [0., 0., 0., 1., 1., 1., 1., 1., 0., 0., 0., 0.],\n",
       "       [0., 0., 0., 1., 1., 1., 1., 1., 0., 0., 0., 0.],\n",
       "       [0., 0., 0., 1., 1., 1., 1., 1., 0., 0., 0., 0.],\n",
       "       [0., 0., 0., 1., 1., 1., 1., 1., 0., 0., 0., 0.],\n",
       "       [0., 0., 0., 1., 1., 1., 1., 1., 0., 0., 0., 0.],\n",
       "       [0., 0., 0., 0., 0., 0., 0., 0., 0., 0., 0., 0.],\n",
       "       [0., 0., 0., 0., 0., 0., 0., 0., 0., 0., 0., 0.],\n",
       "       [0., 0., 0., 0., 0., 0., 0., 0., 0., 0., 0., 0.]])"
      ]
     },
     "metadata": {},
     "output_type": "display_data"
    }
   ],
   "source": [
    "import numpy as np\n",
    "from math import floor, ceil\n",
    "\n",
    "## control\n",
    "np.random.seed(1)\n",
    "control = np.random.randint(0, 10, (5,5))\n",
    "print(\"Control\")\n",
    "display(control)\n",
    "\n",
    "## mapping\n",
    "\n",
    "print(\"Mapping\")\n",
    "display(mapping)\n",
    "\n",
    "## mask\n",
    "centroid = (5,4)\n",
    "mask_width = 5\n",
    "n_cols, n_rows = 12, 10\n",
    "fixed_size = (n_rows, n_cols)\n",
    "\n",
    "def maskFromCentroid(centroid):\n",
    "    x, y = centroid\n",
    "    \n",
    "    x_min = max(0, x - floor(mask_width/2))\n",
    "    x_max = min(n_cols, x + ceil(mask_width/2))\n",
    "    \n",
    "    y_min = max(0, y - floor(mask_width/2))\n",
    "    y_max = min(n_rows, y + ceil(mask_width/2))\n",
    "    \n",
    "    mask = np.zeros((fixed_size))\n",
    "    mask[y_min:y_max, x_min:x_max] = 1\n",
    "    \n",
    "    return mask\n",
    "mask = maskFromCentroid(centroid)\n",
    "print(\"Mask\")\n",
    "display(mask)"
   ]
  },
  {
   "cell_type": "code",
   "execution_count": 87,
   "id": "83c71448",
   "metadata": {},
   "outputs": [
    {
     "name": "stdout",
     "output_type": "stream",
     "text": [
      "control_mask: \n",
      "[[0 0 0 0 0 0 0 0 0 0 0 0]\n",
      " [0 0 0 0 0 0 0 0 0 0 0 0]\n",
      " [0 0 0 5 8 9 5 0 0 0 0 0]\n",
      " [0 0 0 0 1 7 6 9 0 0 0 0]\n",
      " [0 0 0 2 4 5 2 4 0 0 0 0]\n",
      " [0 0 0 2 4 7 7 9 0 0 0 0]\n",
      " [0 0 0 1 7 0 6 9 0 0 0 0]\n",
      " [0 0 0 0 0 0 0 0 0 0 0 0]\n",
      " [0 0 0 0 0 0 0 0 0 0 0 0]\n",
      " [0 0 0 0 0 0 0 0 0 0 0 0]]\n",
      "\n",
      "mapping: \n",
      "[[ 0  0  0  0  0  0  0  0  0  0  0  0]\n",
      " [ 0  0  0  0  0  0  0  0  0  0  0  0]\n",
      " [ 0  0  0 18 23 28  3  8  0  0  0  0]\n",
      " [ 0  0  0 17 22 27  2  7  0  0  0  0]\n",
      " [ 0  0  0 16 21 26  1  6  0  0  0  0]\n",
      " [ 0  0  0 20 25 30  5 10  0  0  0  0]\n",
      " [ 0  0  0 19 24 29  4  9  0  0  0  0]\n",
      " [ 0  0  0  0  0  0  0  0  0  0  0  0]\n",
      " [ 0  0  0  0  0  0  0  0  0  0  0  0]\n",
      " [ 0  0  0  0  0  0  0  0  0  0  0  0]]\n",
      "\n",
      "control_idxs\n",
      "[18 23 28  3  8 17 22 27  2  7 16 21 26  1  6 20 25 30  5 10 19 24 29  4\n",
      "  9]\n",
      " \n",
      "control_vals: \n",
      "[5 8 9 5 0 0 1 7 6 9 2 4 5 2 4 2 4 7 7 9 1 7 0 6 9]\n",
      "\n",
      "0 18 5\n",
      "1 23 8\n",
      "2 28 9\n",
      "3 3 5\n",
      "4 8 0\n",
      "5 17 0\n",
      "6 22 1\n",
      "7 27 7\n",
      "8 2 6\n",
      "9 7 9\n",
      "10 16 2\n",
      "11 21 4\n",
      "12 26 5\n",
      "13 1 2\n",
      "14 6 4\n",
      "15 20 2\n",
      "16 25 4\n",
      "17 30 7\n",
      "18 5 7\n",
      "19 10 9\n",
      "20 19 1\n",
      "21 24 7\n",
      "22 29 0\n",
      "23 4 6\n",
      "24 9 9\n",
      "{18: 5, 23: 8, 28: 9, 3: 5, 8: 0, 17: 0, 22: 1, 27: 7, 2: 6, 7: 9, 16: 2, 21: 4, 26: 5, 1: 2, 6: 4, 20: 2, 25: 4, 30: 7, 5: 7, 10: 9, 19: 1, 24: 7, 29: 0, 4: 6, 9: 9}\n"
     ]
    }
   ],
   "source": [
    "control_mask = np.zeros((10,12), dtype=int)\n",
    "control_mask[mask.nonzero()] = control.flatten()\n",
    "print(\"control_mask: \")\n",
    "print(control_mask)\n",
    "print()\n",
    "\n",
    "mapping[mask==0] = 0\n",
    "print(\"mapping: \")\n",
    "print(mapping)\n",
    "print()\n",
    "\n",
    "control_idxs = mapping[mask>0]\n",
    "print(\"control_idxs\")\n",
    "print(control_idxs)\n",
    "print(\" \")\n",
    "\n",
    "control_vals = control_mask[mask>0]\n",
    "print(\"control_vals: \")\n",
    "print(control_vals)\n",
    "print()\n",
    "\n",
    "control_dict = {}\n",
    "for i,v in enumerate(control_idxs):\n",
    "    control_dict[v] = control_vals[i]\n",
    "    print(i, v, control_vals[i])\n",
    "    \n",
    "print(control_dict)"
   ]
  },
  {
   "cell_type": "code",
   "execution_count": 78,
   "id": "59821245",
   "metadata": {},
   "outputs": [
    {
     "data": {
      "text/plain": [
       "array([[0., 0., 0., 0., 0., 0., 0., 0., 0., 0., 0., 0.],\n",
       "       [0., 0., 0., 0., 0., 0., 0., 0., 0., 0., 0., 0.],\n",
       "       [0., 0., 0., 5., 8., 9., 5., 0., 0., 0., 0., 0.],\n",
       "       [0., 0., 0., 0., 1., 7., 6., 9., 0., 0., 0., 0.],\n",
       "       [0., 0., 0., 2., 4., 5., 2., 4., 0., 0., 0., 0.],\n",
       "       [0., 0., 0., 2., 4., 7., 7., 9., 0., 0., 0., 0.],\n",
       "       [0., 0., 0., 1., 7., 0., 6., 9., 0., 0., 0., 0.],\n",
       "       [0., 0., 0., 0., 0., 0., 0., 0., 0., 0., 0., 0.],\n",
       "       [0., 0., 0., 0., 0., 0., 0., 0., 0., 0., 0., 0.],\n",
       "       [0., 0., 0., 0., 0., 0., 0., 0., 0., 0., 0., 0.]])"
      ]
     },
     "execution_count": 78,
     "metadata": {},
     "output_type": "execute_result"
    }
   ],
   "source": [
    "control_mask"
   ]
  },
  {
   "cell_type": "code",
   "execution_count": null,
   "id": "c1a3bad5",
   "metadata": {},
   "outputs": [],
   "source": []
  }
 ],
 "metadata": {
  "kernelspec": {
   "display_name": "Python 3",
   "language": "python",
   "name": "python3"
  },
  "language_info": {
   "codemirror_mode": {
    "name": "ipython",
    "version": 3
   },
   "file_extension": ".py",
   "mimetype": "text/x-python",
   "name": "python",
   "nbconvert_exporter": "python",
   "pygments_lexer": "ipython3",
   "version": "3.8.10"
  }
 },
 "nbformat": 4,
 "nbformat_minor": 5
}
