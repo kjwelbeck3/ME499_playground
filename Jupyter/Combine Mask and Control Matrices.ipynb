{
 "cells": [
  {
   "cell_type": "code",
   "execution_count": 1,
   "id": "199f4b8b",
   "metadata": {},
   "outputs": [],
   "source": [
    "## Inputs: \n",
    "## - mapping -- 10x20 mat where each cell value reps the control value/index\n",
    "## - mask    -- 10x20 mat where 5x5 block of ones indicate the control/actuation focus\n",
    "## - control -- 5x5 mat to be applied to mask focus\n",
    "\n",
    "\n",
    "## Output:\n",
    "## - control_dict -- dict with keys(1-30) of control"
   ]
  },
  {
   "cell_type": "code",
   "execution_count": 18,
   "id": "72129a23",
   "metadata": {},
   "outputs": [
    {
     "name": "stdout",
     "output_type": "stream",
     "text": [
      "Control\n"
     ]
    },
    {
     "data": {
      "text/plain": [
       "array([[5, 8, 9, 5, 0],\n",
       "       [0, 1, 7, 6, 9],\n",
       "       [2, 4, 5, 2, 4],\n",
       "       [2, 4, 7, 7, 9],\n",
       "       [1, 7, 0, 6, 9]])"
      ]
     },
     "metadata": {},
     "output_type": "display_data"
    },
    {
     "name": "stdout",
     "output_type": "stream",
     "text": [
      "Mapping\n"
     ]
    },
    {
     "data": {
      "text/plain": [
       "array([[ 5, 10, 15, 20, 25, 30,  5, 10, 15, 20, 25, 30],\n",
       "       [ 4,  9, 14, 19, 24, 29,  4,  9, 14, 19, 24, 29],\n",
       "       [ 3,  8, 13, 18, 23, 28,  3,  8, 13, 18, 23, 28],\n",
       "       [ 2,  7, 12, 17, 22, 27,  2,  7, 12, 17, 22, 27],\n",
       "       [ 1,  6, 11, 16, 21, 26,  1,  6, 11, 16, 21, 26],\n",
       "       [ 5, 10, 15, 20, 25, 30,  5, 10, 15, 20, 25, 30],\n",
       "       [ 4,  9, 14, 19, 24, 29,  4,  9, 14, 19, 24, 29],\n",
       "       [ 3,  8, 13, 18, 23, 28,  3,  8, 13, 18, 23, 28],\n",
       "       [ 2,  7, 12, 17, 22, 27,  2,  7, 12, 17, 22, 27],\n",
       "       [ 1,  6, 11, 16, 21, 26,  1,  6, 11, 16, 21, 26]], dtype=int8)"
      ]
     },
     "metadata": {},
     "output_type": "display_data"
    },
    {
     "name": "stdout",
     "output_type": "stream",
     "text": [
      "Mask\n"
     ]
    },
    {
     "data": {
      "text/plain": [
       "array([[0., 1., 1., 1., 1., 1., 0., 0., 0., 0., 0., 0.],\n",
       "       [0., 1., 1., 1., 1., 1., 0., 0., 0., 0., 0., 0.],\n",
       "       [0., 1., 1., 1., 1., 1., 0., 0., 0., 0., 0., 0.],\n",
       "       [0., 1., 1., 1., 1., 1., 0., 0., 0., 0., 0., 0.],\n",
       "       [0., 1., 1., 1., 1., 1., 0., 0., 0., 0., 0., 0.],\n",
       "       [0., 0., 0., 0., 0., 0., 0., 0., 0., 0., 0., 0.],\n",
       "       [0., 0., 0., 0., 0., 0., 0., 0., 0., 0., 0., 0.],\n",
       "       [0., 0., 0., 0., 0., 0., 0., 0., 0., 0., 0., 0.],\n",
       "       [0., 0., 0., 0., 0., 0., 0., 0., 0., 0., 0., 0.],\n",
       "       [0., 0., 0., 0., 0., 0., 0., 0., 0., 0., 0., 0.]])"
      ]
     },
     "metadata": {},
     "output_type": "display_data"
    },
    {
     "data": {
      "image/png": "[encoded data removed]",
      "text/plain": [
       "<Figure size 432x288 with 1 Axes>"
      ]
     },
     "metadata": {
      "needs_background": "light"
     },
     "output_type": "display_data"
    }
   ],
   "source": [
    "import numpy as np\n",
    "from math import floor, ceil\n",
    "\n",
    "\n",
    "\n",
    "## control\n",
    "np.random.seed(1)\n",
    "control = np.random.randint(0, 10, (5,5))\n",
    "print(\"Control\")\n",
    "display(control)\n",
    "\n",
    "## mapping\n",
    "fixed_size = (10,12)\n",
    "n_rows, n_cols = fixed_size\n",
    "mapping = np.zeros(fixed_size, dtype=np.int8)\n",
    "submap = np.zeros((int(n_rows/2), int(n_cols/2)))\n",
    "\n",
    "submap[:, 0] = np.arange(5, 0, -1)#.reshape((n_rows/2, 1))\n",
    "submap[:, 1] = np.arange(10, 5, -1)#.reshape((n_rows/2, 1))\n",
    "submap[:, 2] = np.arange(15, 10, -1)#.reshape((n_rows/2, 1))\n",
    "submap[:, 3] = np.arange(20, 15, -1)#.reshape((n_rows/2, 1))\n",
    "submap[:, 4] = np.arange(25, 20, -1)#.reshape((n_rows/2, 1))\n",
    "submap[:, 5] = np.arange(30, 25, -1)#.reshape((n_rows/2, 1))\n",
    "\n",
    "mapping[0:5, 0:6] = submap\n",
    "mapping[0:5, 6:12] = submap\n",
    "mapping[5:10, 0:6] = submap\n",
    "mapping[5:10, 6:12] = submap\n",
    "print(\"Mapping\")\n",
    "display(mapping)\n",
    "\n",
    "plt.imshow(mapping, interpolation='nearest')\n",
    "\n",
    "## mask\n",
    "centroid = (3,2)\n",
    "mask_width = 5\n",
    "n_cols, n_rows = 12, 10\n",
    "fixed_size = (n_rows, n_cols)\n",
    "\n",
    "def maskFromCentroid(centroid):\n",
    "    x, y = centroid\n",
    "    \n",
    "    x_min = max(0, x - floor(mask_width/2))\n",
    "    x_max = min(n_cols, x + ceil(mask_width/2))\n",
    "    \n",
    "    y_min = max(0, y - floor(mask_width/2))\n",
    "    y_max = min(n_rows, y + ceil(mask_width/2))\n",
    "    \n",
    "    mask = np.zeros((fixed_size))\n",
    "    mask[y_min:y_max, x_min:x_max] = 1\n",
    "    \n",
    "    return mask\n",
    "mask = maskFromCentroid(centroid)\n",
    "print(\"Mask\")\n",
    "display(mask)"
   ]
  },
  {
   "cell_type": "code",
   "execution_count": 33,
   "id": "83c71448",
   "metadata": {},
   "outputs": [
    {
     "name": "stdout",
     "output_type": "stream",
     "text": [
      "control_mask: \n",
      "[[0 5 8 9 5 0 0 0 0 0 0 0]\n",
      " [0 0 1 7 6 9 0 0 0 0 0 0]\n",
      " [0 2 4 5 2 4 0 0 0 0 0 0]\n",
      " [0 2 4 7 7 9 0 0 0 0 0 0]\n",
      " [0 1 7 0 6 9 0 0 0 0 0 0]\n",
      " [0 0 0 0 0 0 0 0 0 0 0 0]\n",
      " [0 0 0 0 0 0 0 0 0 0 0 0]\n",
      " [0 0 0 0 0 0 0 0 0 0 0 0]\n",
      " [0 0 0 0 0 0 0 0 0 0 0 0]\n",
      " [0 0 0 0 0 0 0 0 0 0 0 0]]\n",
      "\n",
      "mapping: \n",
      "[[ 0 10 15 20 25 30  0  0  0  0  0  0]\n",
      " [ 0  9 14 19 24 29  0  0  0  0  0  0]\n",
      " [ 0  8 13 18 23 28  0  0  0  0  0  0]\n",
      " [ 0  7 12 17 22 27  0  0  0  0  0  0]\n",
      " [ 0  6 11 16 21 26  0  0  0  0  0  0]\n",
      " [ 0  0  0  0  0  0  0  0  0  0  0  0]\n",
      " [ 0  0  0  0  0  0  0  0  0  0  0  0]\n",
      " [ 0  0  0  0  0  0  0  0  0  0  0  0]\n",
      " [ 0  0  0  0  0  0  0  0  0  0  0  0]\n",
      " [ 0  0  0  0  0  0  0  0  0  0  0  0]]\n",
      "\n",
      "control_idxs\n",
      "[10 15 20 25 30  9 14 19 24 29  8 13 18 23 28  7 12 17 22 27  6 11 16 21\n",
      " 26]\n",
      " \n",
      "control_vals: \n",
      "[5 8 9 5 0 0 1 7 6 9 2 4 5 2 4 2 4 7 7 9 1 7 0 6 9]\n",
      "\n",
      "0 10 5\n",
      "1 15 8\n",
      "2 20 9\n",
      "3 25 5\n",
      "4 30 0\n",
      "5 9 0\n",
      "6 14 1\n",
      "7 19 7\n",
      "8 24 6\n",
      "9 29 9\n",
      "10 8 2\n",
      "11 13 4\n",
      "12 18 5\n",
      "13 23 2\n",
      "14 28 4\n",
      "15 7 2\n",
      "16 12 4\n",
      "17 17 7\n",
      "18 22 7\n",
      "19 27 9\n",
      "20 6 1\n",
      "21 11 7\n",
      "22 16 0\n",
      "23 21 6\n",
      "24 26 9\n",
      "\n",
      "\n",
      "control dictionary\n"
     ]
    },
    {
     "data": {
      "text/plain": [
       "{10: 5,\n",
       " 15: 8,\n",
       " 20: 9,\n",
       " 25: 5,\n",
       " 30: 0,\n",
       " 9: 0,\n",
       " 14: 1,\n",
       " 19: 7,\n",
       " 24: 6,\n",
       " 29: 9,\n",
       " 8: 2,\n",
       " 13: 4,\n",
       " 18: 5,\n",
       " 23: 2,\n",
       " 28: 4,\n",
       " 7: 2,\n",
       " 12: 4,\n",
       " 17: 7,\n",
       " 22: 7,\n",
       " 27: 9,\n",
       " 6: 1,\n",
       " 11: 7,\n",
       " 16: 0,\n",
       " 21: 6,\n",
       " 26: 9}"
      ]
     },
     "metadata": {},
     "output_type": "display_data"
    },
    {
     "name": "stdout",
     "output_type": "stream",
     "text": [
      "\n",
      "\n"
     ]
    }
   ],
   "source": [
    "control_mask = np.zeros((10,12), dtype=int)\n",
    "control_mask[mask.nonzero()] = control.flatten()\n",
    "print(\"control_mask: \")\n",
    "print(control_mask)\n",
    "print()\n",
    "\n",
    "mapping[mask==0] = 0\n",
    "print(\"mapping: \")\n",
    "print(mapping)\n",
    "print()\n",
    "\n",
    "control_idxs = mapping[mask>0]\n",
    "print(\"control_idxs\")\n",
    "print(control_idxs)\n",
    "print(\" \")\n",
    "\n",
    "control_vals = control_mask[mask>0]\n",
    "print(\"control_vals: \")\n",
    "print(control_vals)\n",
    "print()\n",
    "\n",
    "control_dict = {}\n",
    "for i,v in enumerate(control_idxs):\n",
    "    control_dict[v] = control_vals[i]\n",
    "    print(i, v, control_vals[i])\n",
    "    \n",
    "print()\n",
    "print()\n",
    "print(\"control dictionary\")\n",
    "# print(control_dict)\n",
    "display(control_dict)\n",
    "print()\n",
    "print()\n"
   ]
  },
  {
   "cell_type": "code",
   "execution_count": 20,
   "id": "59821245",
   "metadata": {},
   "outputs": [
    {
     "data": {
      "text/plain": [
       "array([[0, 5, 8, 9, 5, 0, 0, 0, 0, 0, 0, 0],\n",
       "       [0, 0, 1, 7, 6, 9, 0, 0, 0, 0, 0, 0],\n",
       "       [0, 2, 4, 5, 2, 4, 0, 0, 0, 0, 0, 0],\n",
       "       [0, 2, 4, 7, 7, 9, 0, 0, 0, 0, 0, 0],\n",
       "       [0, 1, 7, 0, 6, 9, 0, 0, 0, 0, 0, 0],\n",
       "       [0, 0, 0, 0, 0, 0, 0, 0, 0, 0, 0, 0],\n",
       "       [0, 0, 0, 0, 0, 0, 0, 0, 0, 0, 0, 0],\n",
       "       [0, 0, 0, 0, 0, 0, 0, 0, 0, 0, 0, 0],\n",
       "       [0, 0, 0, 0, 0, 0, 0, 0, 0, 0, 0, 0],\n",
       "       [0, 0, 0, 0, 0, 0, 0, 0, 0, 0, 0, 0]])"
      ]
     },
     "execution_count": 20,
     "metadata": {},
     "output_type": "execute_result"
    }
   ],
   "source": [
    "control_mask"
   ]
  },
  {
   "cell_type": "code",
   "execution_count": 24,
   "id": "c1a3bad5",
   "metadata": {},
   "outputs": [
    {
     "name": "stdout",
     "output_type": "stream",
     "text": [
      "masked map\n",
      "\n"
     ]
    },
    {
     "data": {
      "image/png": "[encoded data removed]",
      "text/plain": [
       "<Figure size 432x288 with 1 Axes>"
      ]
     },
     "metadata": {
      "needs_background": "light"
     },
     "output_type": "display_data"
    }
   ],
   "source": [
    "## Accounting for the masks that partly spill out of the original mapping \n",
    "\n",
    "from matplotlib import pyplot as plt\n",
    "\n",
    "print(\"masked map\")\n",
    "plt.imshow(mapping, interpolation='nearest')\n",
    "print()\n"
   ]
  },
  {
   "cell_type": "code",
   "execution_count": 22,
   "id": "6de6173b",
   "metadata": {},
   "outputs": [
    {
     "name": "stdout",
     "output_type": "stream",
     "text": [
      "control_matrix\n",
      "\n"
     ]
    },
    {
     "data": {
      "image/png": "[encoded data removed]",
      "text/plain": [
       "<Figure size 432x288 with 1 Axes>"
      ]
     },
     "metadata": {
      "needs_background": "light"
     },
     "output_type": "display_data"
    }
   ],
   "source": [
    "print(\"control_matrix\")\n",
    "plt.imshow(control, interpolation='nearest')\n",
    "print()"
   ]
  },
  {
   "cell_type": "code",
   "execution_count": 25,
   "id": "16fb97a4",
   "metadata": {},
   "outputs": [
    {
     "name": "stdout",
     "output_type": "stream",
     "text": [
      "mask\n",
      "\n"
     ]
    },
    {
     "data": {
      "image/png": "[encoded data removed]",
      "text/plain": [
       "<Figure size 432x288 with 1 Axes>"
      ]
     },
     "metadata": {
      "needs_background": "light"
     },
     "output_type": "display_data"
    }
   ],
   "source": [
    "print(\"mask\")\n",
    "plt.imshow(mask, interpolation='nearest')\n",
    "print()"
   ]
  },
  {
   "cell_type": "code",
   "execution_count": 27,
   "id": "2df04752",
   "metadata": {},
   "outputs": [
    {
     "name": "stdout",
     "output_type": "stream",
     "text": [
      "control_mask\n",
      "\n"
     ]
    },
    {
     "data": {
      "image/png": "[encoded data removed]",
      "text/plain": [
       "<Figure size 432x288 with 1 Axes>"
      ]
     },
     "metadata": {
      "needs_background": "light"
     },
     "output_type": "display_data"
    }
   ],
   "source": [
    "print(\"control_mask\")\n",
    "plt.imshow(control_mask, interpolation='nearest')\n",
    "print()"
   ]
  },
  {
   "cell_type": "code",
   "execution_count": null,
   "id": "2acbc730",
   "metadata": {},
   "outputs": [],
   "source": []
  }
 ],
 "metadata": {
  "kernelspec": {
   "display_name": "Python 3",
   "language": "python",
   "name": "python3"
  },
  "language_info": {
   "codemirror_mode": {
    "name": "ipython",
    "version": 3
   },
   "file_extension": ".py",
   "mimetype": "text/x-python",
   "name": "python",
   "nbconvert_exporter": "python",
   "pygments_lexer": "ipython3",
   "version": "3.8.10"
  }
 },
 "nbformat": 4,
 "nbformat_minor": 5
}
