{
 "cells": [
  {
   "cell_type": "code",
   "execution_count": 1,
   "id": "199f4b8b",
   "metadata": {},
   "outputs": [],
   "source": [
    "## Inputs: \n",
    "## - mapping -- 10x20 mat where each cell value reps the control value/index\n",
    "## - mask    -- 10x20 mat where 5x5 block of ones indicate the control/actuation focus\n",
    "## - control -- 5x5 mat to be applied to mask focus\n",
    "\n",
    "\n",
    "## Output:\n",
    "## - control_dict -- dict with keys(1-30) of control\n",
    "\n",
    "\n",
    "## Edits:\n",
    "## Accounting for the masks that partly spill out of the original mapping "
   ]
  },
  {
   "cell_type": "code",
   "execution_count": 23,
   "id": "72129a23",
   "metadata": {},
   "outputs": [
    {
     "name": "stdout",
     "output_type": "stream",
     "text": [
      "Control\n"
     ]
    },
    {
     "data": {
      "text/plain": [
       "array([[5, 8, 9, 5, 0],\n",
       "       [0, 1, 7, 6, 9],\n",
       "       [2, 4, 5, 2, 4],\n",
       "       [2, 4, 7, 7, 9],\n",
       "       [1, 7, 0, 6, 9]])"
      ]
     },
     "metadata": {},
     "output_type": "display_data"
    },
    {
     "name": "stdout",
     "output_type": "stream",
     "text": [
      "Mapping\n"
     ]
    },
    {
     "data": {
      "text/plain": [
       "array([[ 0,  0,  0,  0,  0,  0,  0,  0,  0,  0,  0,  0,  0,  0,  0,  0],\n",
       "       [ 0,  0,  0,  0,  0,  0,  0,  0,  0,  0,  0,  0,  0,  0,  0,  0],\n",
       "       [ 0,  0,  5, 10, 15, 20, 25, 30,  5, 10, 15, 20, 25, 30,  0,  0],\n",
       "       [ 0,  0,  4,  9, 14, 19, 24, 29,  4,  9, 14, 19, 24, 29,  0,  0],\n",
       "       [ 0,  0,  3,  8, 13, 18, 23, 28,  3,  8, 13, 18, 23, 28,  0,  0],\n",
       "       [ 0,  0,  2,  7, 12, 17, 22, 27,  2,  7, 12, 17, 22, 27,  0,  0],\n",
       "       [ 0,  0,  1,  6, 11, 16, 21, 26,  1,  6, 11, 16, 21, 26,  0,  0],\n",
       "       [ 0,  0,  5, 10, 15, 20, 25, 30,  5, 10, 15, 20, 25, 30,  0,  0],\n",
       "       [ 0,  0,  4,  9, 14, 19, 24, 29,  4,  9, 14, 19, 24, 29,  0,  0],\n",
       "       [ 0,  0,  3,  8, 13, 18, 23, 28,  3,  8, 13, 18, 23, 28,  0,  0],\n",
       "       [ 0,  0,  2,  7, 12, 17, 22, 27,  2,  7, 12, 17, 22, 27,  0,  0],\n",
       "       [ 0,  0,  1,  6, 11, 16, 21, 26,  1,  6, 11, 16, 21, 26,  0,  0],\n",
       "       [ 0,  0,  0,  0,  0,  0,  0,  0,  0,  0,  0,  0,  0,  0,  0,  0],\n",
       "       [ 0,  0,  0,  0,  0,  0,  0,  0,  0,  0,  0,  0,  0,  0,  0,  0]],\n",
       "      dtype=int8)"
      ]
     },
     "metadata": {},
     "output_type": "display_data"
    },
    {
     "name": "stdout",
     "output_type": "stream",
     "text": [
      "Mask\n"
     ]
    },
    {
     "data": {
      "text/plain": [
       "array([[0., 0., 0., 0., 0., 0., 0., 0., 0., 0., 0., 0., 0., 0., 0., 0.],\n",
       "       [0., 0., 0., 0., 0., 0., 0., 0., 0., 0., 0., 0., 0., 0., 0., 0.],\n",
       "       [0., 0., 0., 0., 0., 0., 0., 0., 0., 0., 0., 0., 0., 0., 0., 0.],\n",
       "       [0., 0., 0., 0., 0., 0., 0., 0., 0., 0., 0., 0., 0., 0., 0., 0.],\n",
       "       [0., 0., 0., 0., 0., 0., 0., 0., 0., 0., 0., 0., 0., 0., 0., 0.],\n",
       "       [0., 0., 0., 0., 0., 0., 0., 0., 0., 0., 0., 0., 0., 0., 0., 0.],\n",
       "       [0., 0., 0., 0., 0., 0., 0., 0., 0., 0., 0., 0., 0., 0., 0., 0.],\n",
       "       [0., 0., 0., 0., 0., 0., 0., 0., 0., 0., 0., 0., 0., 0., 0., 0.],\n",
       "       [0., 0., 0., 0., 0., 0., 0., 0., 0., 0., 0., 0., 0., 0., 0., 0.],\n",
       "       [0., 0., 0., 0., 0., 0., 0., 0., 0., 0., 0., 1., 1., 1., 1., 1.],\n",
       "       [0., 0., 0., 0., 0., 0., 0., 0., 0., 0., 0., 1., 1., 1., 1., 1.],\n",
       "       [0., 0., 0., 0., 0., 0., 0., 0., 0., 0., 0., 1., 1., 1., 1., 1.],\n",
       "       [0., 0., 0., 0., 0., 0., 0., 0., 0., 0., 0., 1., 1., 1., 1., 1.],\n",
       "       [0., 0., 0., 0., 0., 0., 0., 0., 0., 0., 0., 1., 1., 1., 1., 1.]])"
      ]
     },
     "metadata": {},
     "output_type": "display_data"
    }
   ],
   "source": [
    "import numpy as np\n",
    "from math import floor, ceil\n",
    "\n",
    "\n",
    "\n",
    "## control\n",
    "np.random.seed(1)\n",
    "control = np.random.randint(0, 10, (5,5))\n",
    "print(\"Control\")\n",
    "display(control)\n",
    "\n",
    "## mapping\n",
    "fixed_size = (10,12)\n",
    "adjusted_size = (fixed_size[0]+4, fixed_size[1]+4)\n",
    "n_rows, n_cols = fixed_size\n",
    "# adjusted_rows, adjusted_cols = adjusted_size\n",
    "# mapping = np.zeros(fixed_size, dtype=np.int8)\n",
    "mapping = np.zeros(adjusted_size, dtype=np.int8)\n",
    "submap = np.zeros((int(n_rows/2), int(n_cols/2)))\n",
    "\n",
    "submap[:, 0] = np.arange(5, 0, -1)#.reshape((n_rows/2, 1))\n",
    "submap[:, 1] = np.arange(10, 5, -1)#.reshape((n_rows/2, 1))\n",
    "submap[:, 2] = np.arange(15, 10, -1)#.reshape((n_rows/2, 1))\n",
    "submap[:, 3] = np.arange(20, 15, -1)#.reshape((n_rows/2, 1))\n",
    "submap[:, 4] = np.arange(25, 20, -1)#.reshape((n_rows/2, 1))\n",
    "submap[:, 5] = np.arange(30, 25, -1)#.reshape((n_rows/2, 1))\n",
    "\n",
    "# mapping[0:5, 0:6] = submap\n",
    "# mapping[0:5, 6:12] = submap\n",
    "# mapping[5:10, 0:6] = submap\n",
    "# mapping[5:10, 6:12] = submap\n",
    "\n",
    "mapping[2:7, 2:8] = submap\n",
    "mapping[2:7, 8:14] = submap\n",
    "mapping[7:12, 2:8] = submap\n",
    "mapping[7:12, 8:14] = submap\n",
    "print(\"Mapping\")\n",
    "display(mapping)\n",
    "\n",
    "## mask\n",
    "centroid = (9+2, 11+2)\n",
    "mask_width = 5\n",
    "n_cols, n_rows = 12+4, 10+4\n",
    "fixed_size = (n_rows, n_cols)\n",
    "\n",
    "def maskFromCentroid(centroid):\n",
    "    y, x = centroid\n",
    "    \n",
    "    x_min = max(0, x - floor(mask_width/2))\n",
    "    x_max = min(n_cols, x + ceil(mask_width/2))\n",
    "    \n",
    "    y_min = max(0, y - floor(mask_width/2))\n",
    "    y_max = min(n_rows, y + ceil(mask_width/2))\n",
    "    \n",
    "    mask = np.zeros((fixed_size))\n",
    "    mask[y_min:y_max, x_min:x_max] = 1\n",
    "    \n",
    "    return mask\n",
    "mask = maskFromCentroid(centroid)\n",
    "print(\"Mask\")\n",
    "display(mask)"
   ]
  },
  {
   "cell_type": "code",
   "execution_count": 24,
   "id": "83c71448",
   "metadata": {},
   "outputs": [
    {
     "name": "stdout",
     "output_type": "stream",
     "text": [
      "control_mask: \n",
      "[[0 0 0 0 0 0 0 0 0 0 0 0 0 0 0 0]\n",
      " [0 0 0 0 0 0 0 0 0 0 0 0 0 0 0 0]\n",
      " [0 0 0 0 0 0 0 0 0 0 0 0 0 0 0 0]\n",
      " [0 0 0 0 0 0 0 0 0 0 0 0 0 0 0 0]\n",
      " [0 0 0 0 0 0 0 0 0 0 0 0 0 0 0 0]\n",
      " [0 0 0 0 0 0 0 0 0 0 0 0 0 0 0 0]\n",
      " [0 0 0 0 0 0 0 0 0 0 0 0 0 0 0 0]\n",
      " [0 0 0 0 0 0 0 0 0 0 0 0 0 0 0 0]\n",
      " [0 0 0 0 0 0 0 0 0 0 0 0 0 0 0 0]\n",
      " [0 0 0 0 0 0 0 0 0 0 0 5 8 9 5 0]\n",
      " [0 0 0 0 0 0 0 0 0 0 0 0 1 7 6 9]\n",
      " [0 0 0 0 0 0 0 0 0 0 0 2 4 5 2 4]\n",
      " [0 0 0 0 0 0 0 0 0 0 0 2 4 7 7 9]\n",
      " [0 0 0 0 0 0 0 0 0 0 0 1 7 0 6 9]]\n",
      "\n",
      "mapping: \n",
      "[[ 0  0  0  0  0  0  0  0  0  0  0  0  0  0  0  0]\n",
      " [ 0  0  0  0  0  0  0  0  0  0  0  0  0  0  0  0]\n",
      " [ 0  0  0  0  0  0  0  0  0  0  0  0  0  0  0  0]\n",
      " [ 0  0  0  0  0  0  0  0  0  0  0  0  0  0  0  0]\n",
      " [ 0  0  0  0  0  0  0  0  0  0  0  0  0  0  0  0]\n",
      " [ 0  0  0  0  0  0  0  0  0  0  0  0  0  0  0  0]\n",
      " [ 0  0  0  0  0  0  0  0  0  0  0  0  0  0  0  0]\n",
      " [ 0  0  0  0  0  0  0  0  0  0  0  0  0  0  0  0]\n",
      " [ 0  0  0  0  0  0  0  0  0  0  0  0  0  0  0  0]\n",
      " [ 0  0  0  0  0  0  0  0  0  0  0 18 23 28  0  0]\n",
      " [ 0  0  0  0  0  0  0  0  0  0  0 17 22 27  0  0]\n",
      " [ 0  0  0  0  0  0  0  0  0  0  0 16 21 26  0  0]\n",
      " [ 0  0  0  0  0  0  0  0  0  0  0  0  0  0  0  0]\n",
      " [ 0  0  0  0  0  0  0  0  0  0  0  0  0  0  0  0]]\n",
      "\n",
      "control_idxs\n",
      "[18 23 28  0  0 17 22 27  0  0 16 21 26  0  0  0  0  0  0  0  0  0  0  0\n",
      "  0]\n",
      " \n",
      "control_vals: \n",
      "[5 8 9 5 0 0 1 7 6 9 2 4 5 2 4 2 4 7 7 9 1 7 0 6 9]\n",
      "\n",
      "0 18 5\n",
      "1 23 8\n",
      "2 28 9\n",
      "3 0 5\n",
      "4 0 0\n",
      "5 17 0\n",
      "6 22 1\n",
      "7 27 7\n",
      "8 0 6\n",
      "9 0 9\n",
      "10 16 2\n",
      "11 21 4\n",
      "12 26 5\n",
      "13 0 2\n",
      "14 0 4\n",
      "15 0 2\n",
      "16 0 4\n",
      "17 0 7\n",
      "18 0 7\n",
      "19 0 9\n",
      "20 0 1\n",
      "21 0 7\n",
      "22 0 0\n",
      "23 0 6\n",
      "24 0 9\n",
      "{18: 5, 23: 8, 28: 9, 17: 0, 22: 1, 27: 7, 16: 2, 21: 4, 26: 5}\n"
     ]
    }
   ],
   "source": [
    "control_mask = np.zeros((14,16), dtype=int)\n",
    "control_mask[mask.nonzero()] = control.flatten()\n",
    "print(\"control_mask: \")\n",
    "print(control_mask)\n",
    "print()\n",
    "\n",
    "mapping[mask==0] = 0\n",
    "print(\"mapping: \")\n",
    "print(mapping)\n",
    "print()\n",
    "\n",
    "control_idxs = mapping[mask>0]\n",
    "print(\"control_idxs\")\n",
    "print(control_idxs)\n",
    "print(\" \")\n",
    "\n",
    "control_vals = control_mask[mask>0]\n",
    "print(\"control_vals: \")\n",
    "print(control_vals)\n",
    "print()\n",
    "\n",
    "control_dict = {}\n",
    "for i,v in enumerate(control_idxs):\n",
    "    control_dict[v] = control_vals[i]\n",
    "    print(i, v, control_vals[i])\n",
    "\n",
    "control_dict.pop(0)\n",
    "    \n",
    "print(control_dict)"
   ]
  },
  {
   "cell_type": "code",
   "execution_count": 25,
   "id": "59821245",
   "metadata": {},
   "outputs": [
    {
     "name": "stdout",
     "output_type": "stream",
     "text": [
      "control_dict\n",
      "9\n",
      "{18: 5, 23: 8, 28: 9, 17: 0, 22: 1, 27: 7, 16: 2, 21: 4, 26: 5}\n",
      "\n",
      "control_idxs\n",
      "25\n",
      "[18 23 28  0  0 17 22 27  0  0 16 21 26  0  0  0  0  0  0  0  0  0  0  0\n",
      "  0]\n",
      "\n",
      "control_vals\n",
      "25\n",
      "[5 8 9 5 0 0 1 7 6 9 2 4 5 2 4 2 4 7 7 9 1 7 0 6 9]\n"
     ]
    }
   ],
   "source": [
    "print(\"control_dict\")\n",
    "print(len(control_dict))\n",
    "print(control_dict)\n",
    "print()\n",
    "print(\"control_idxs\")\n",
    "print(len(control_idxs))\n",
    "print(control_idxs)\n",
    "print()\n",
    "print(\"control_vals\")\n",
    "print(len(control_vals))\n",
    "print(control_vals)"
   ]
  },
  {
   "cell_type": "code",
   "execution_count": null,
   "id": "c1a3bad5",
   "metadata": {},
   "outputs": [],
   "source": []
  }
 ],
 "metadata": {
  "kernelspec": {
   "display_name": "Python 3",
   "language": "python",
   "name": "python3"
  },
  "language_info": {
   "codemirror_mode": {
    "name": "ipython",
    "version": 3
   },
   "file_extension": ".py",
   "mimetype": "text/x-python",
   "name": "python",
   "nbconvert_exporter": "python",
   "pygments_lexer": "ipython3",
   "version": "3.8.10"
  }
 },
 "nbformat": 4,
 "nbformat_minor": 5
}
